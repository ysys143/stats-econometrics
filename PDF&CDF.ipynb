{
 "cells": [
  {
   "cell_type": "code",
   "execution_count": 11,
   "metadata": {},
   "outputs": [
    {
     "data": {
      "application/vnd.jupyter.widget-view+json": {
       "model_id": "f94aebd3e4c04b4598aeff59c4ec7fca",
       "version_major": 2,
       "version_minor": 0
      },
      "text/plain": [
       "interactive(children=(FloatSlider(value=0.0, continuous_update=False, description='Z:', max=4.0, min=-4.0), Ou…"
      ]
     },
     "metadata": {},
     "output_type": "display_data"
    },
    {
     "data": {
      "text/plain": [
       "<function __main__.plot_distribution_at_x(x)>"
      ]
     },
     "execution_count": 11,
     "metadata": {},
     "output_type": "execute_result"
    }
   ],
   "source": [
    "import numpy as np\n",
    "import matplotlib.pyplot as plt\n",
    "from scipy.stats import norm\n",
    "import ipywidgets as widgets\n",
    "\n",
    "# 데이터 생성\n",
    "x_values = np.linspace(-4, 4, 500)\n",
    "pdf_values = norm.pdf(x_values)  # 확률밀도함수 (PDF)\n",
    "cdf_values = norm.cdf(x_values)  # 누적분포함수 (CDF)\n",
    "\n",
    "# 함수 정의: 선택한 x 값에서 PDF와 CDF 시각화\n",
    "def plot_distribution_at_x(x):\n",
    "    pdf_at_x = norm.pdf(x)  # 선택한 x에서의 PDF\n",
    "    cdf_at_x = norm.cdf(x)  # 선택한 x에서의 CDF\n",
    "    \n",
    "    plt.figure(figsize=(10, 6))\n",
    "\n",
    "    # PDF 시각화\n",
    "    plt.subplot(2, 1, 1)\n",
    "    plt.plot(x_values, pdf_values, label=\"f(x) - PDF\", color='blue')\n",
    "    plt.axvline(x=x, color='red', linestyle='--', label=f'Z={x:.4f}')\n",
    "    plt.axvline(x=x, color='none', label=f'f({x:.2f})={pdf_at_x:.4f}')  # PDF 값을 따로 표시\n",
    "\n",
    "    plt.fill_between(x_values, 0, pdf_values, where=(x_values <= x), color='blue', alpha=0.3)\n",
    "\n",
    "    plt.title(f'PDF and CDF at Z = {x}')\n",
    "    plt.xlabel('Z')\n",
    "    plt.ylabel('PDF (f(x))')\n",
    "    plt.legend(loc='upper right')\n",
    "    plt.grid(True)\n",
    "\n",
    "    # CDF 시각화\n",
    "    plt.subplot(2, 1, 2)\n",
    "    plt.plot(x_values, cdf_values, label=\"F(x) - CDF\", color='green')\n",
    "    plt.axvline(x=x, color='red', linestyle='--', label=f'Z={x}')\n",
    "    plt.axvline(x=x, color='none', label=f'F({x:.2f})={cdf_at_x:.4f}')  # CDF 값을 따로 표시\n",
    "\n",
    "    plt.xlabel('Z')\n",
    "    plt.ylabel('CDF (F(x))')\n",
    "    plt.legend(loc='lower right')\n",
    "    plt.grid(True)\n",
    "\n",
    "    # 선택된 Z 값에서 PDF와 CDF 값 표시\n",
    "    plt.suptitle(f\"At Z = {x:.4f}, PDF = f({x:.4f}) = {pdf_at_x:.4f}, CDF = F({x}) = {cdf_at_x:.4f}\", fontsize=14)\n",
    "    plt.tight_layout()\n",
    "    plt.show()\n",
    "\n",
    "# 트랙바 정의: 전체 X축 범위 (-4, 4)에 맞춤\n",
    "x_slider = widgets.FloatSlider(value=0, min=-4, max=4, step=0.1, description='Z:', continuous_update=False)\n",
    "\n",
    "# 인터랙티브 위젯\n",
    "widgets.interact(plot_distribution_at_x, x=x_slider)\n",
    "\n",
    "\n"
   ]
  },
  {
   "cell_type": "code",
   "execution_count": 17,
   "metadata": {},
   "outputs": [
    {
     "data": {
      "application/vnd.jupyter.widget-view+json": {
       "model_id": "61b0095a8e0a428ba28f0570385d9ad2",
       "version_major": 2,
       "version_minor": 0
      },
      "text/plain": [
       "interactive(children=(FloatSlider(value=0.0, continuous_update=False, description='Z:', max=4.0, min=-4.0), Ou…"
      ]
     },
     "metadata": {},
     "output_type": "display_data"
    },
    {
     "data": {
      "text/plain": [
       "<function __main__.plot_distribution_at_x(x)>"
      ]
     },
     "execution_count": 17,
     "metadata": {},
     "output_type": "execute_result"
    }
   ],
   "source": [
    "import numpy as np\n",
    "import matplotlib.pyplot as plt\n",
    "from scipy.stats import norm\n",
    "import ipywidgets as widgets\n",
    "\n",
    "# 데이터 생성\n",
    "x_values = np.linspace(-4, 4, 500)\n",
    "pdf_values = norm.pdf(x_values)  # 확률밀도함수 (PDF)\n",
    "cdf_values = norm.cdf(x_values)  # 누적분포함수 (CDF)\n",
    "\n",
    "# 함수 정의: 선택한 x 값에서 PDF와 CDF 시각화 및 CDF에서 접선과 기울기 표시\n",
    "def plot_distribution_at_x(x):\n",
    "    pdf_at_x = norm.pdf(x)  # 선택한 x에서의 PDF\n",
    "    cdf_at_x = norm.cdf(x)  # 선택한 x에서의 CDF\n",
    "    \n",
    "    plt.figure(figsize=(10, 6))\n",
    "\n",
    "    # PDF 시각화\n",
    "    plt.subplot(2, 1, 1)\n",
    "    plt.plot(x_values, pdf_values, label=\"PDF\", color='blue')\n",
    "    plt.axvline(x=x, color='red', linestyle='--', label=f'Z={x}')\n",
    "    plt.axvline(x=x, color='none', label=f'f({x:.2f})={pdf_at_x:.4f}')  # PDF 값을 따로 표시\n",
    "    plt.title(f'PDF and CDF at Z = {x}')\n",
    "    plt.xlabel('Z')\n",
    "    plt.ylabel('PDF')\n",
    "    plt.legend(loc='upper right')\n",
    "    plt.grid(True)\n",
    "\n",
    "    # CDF 시각화 (접선과 기울기 표시)\n",
    "    plt.subplot(2, 1, 2)\n",
    "    plt.plot(x_values, cdf_values, label=\"CDF\", color='green')\n",
    "    plt.axvline(x=x, color='red', linestyle='--', label=f'Z={x}')\n",
    "    plt.axvline(x=x, color='none', label=f'F({x:.2f})={cdf_at_x:.4f}')  # CDF 값을 따로 표시\n",
    "    \n",
    "    # CDF에서 접선 그리기: 접선의 기울기는 선택한 Z에서의 PDF와 동일\n",
    "    tangent_slope = pdf_at_x  # CDF에서 접선의 기울기는 PDF 값과 동일\n",
    "    tangent_line = tangent_slope * (x_values - x) + cdf_at_x  # 접선 방정식\n",
    "\n",
    "    # 접선 시각화 및 접선 기울기 범례에 추가\n",
    "    plt.plot(x_values, tangent_line, label=f'dF/dx={tangent_slope:.4f}', linestyle='--', color='orange')\n",
    "\n",
    "    plt.xlabel('Z')\n",
    "    plt.ylabel('CDF')\n",
    "    plt.legend(loc='lower right')\n",
    "    plt.grid(True)\n",
    "\n",
    "    # 확률밀도와 누적확률 표시\n",
    "    plt.suptitle(f\"At Z = {x:.4f}, PDF = {pdf_at_x:.4f}, CDF = {cdf_at_x:.4f}, Slope = {tangent_slope:.4f}\", fontsize=14)\n",
    "    plt.tight_layout()\n",
    "    plt.show()\n",
    "\n",
    "# 트랙바 정의: 전체 X축 범위 (-4, 4)에 맞춤\n",
    "x_slider = widgets.FloatSlider(value=0, min=-4, max=4, step=0.1, description='Z:', continuous_update=False)\n",
    "\n",
    "# 인터랙티브 위젯\n",
    "widgets.interact(plot_distribution_at_x, x=x_slider)\n",
    "\n",
    "\n"
   ]
  },
  {
   "cell_type": "code",
   "execution_count": 43,
   "metadata": {},
   "outputs": [
    {
     "data": {
      "application/vnd.jupyter.widget-view+json": {
       "model_id": "d1735533e46e43579f449758db9ffce0",
       "version_major": 2,
       "version_minor": 0
      },
      "text/plain": [
       "interactive(children=(IntSlider(value=5, continuous_update=False, description='X:', max=10), IntSlider(value=1…"
      ]
     },
     "metadata": {},
     "output_type": "display_data"
    },
    {
     "data": {
      "text/plain": [
       "<function __main__.plot_binomial_distribution(x, n=10, p=0.5)>"
      ]
     },
     "execution_count": 43,
     "metadata": {},
     "output_type": "execute_result"
    }
   ],
   "source": [
    "import numpy as np\n",
    "import matplotlib.pyplot as plt\n",
    "from scipy.stats import binom\n",
    "import ipywidgets as widgets\n",
    "\n",
    "# 함수 정의: 선택한 x 값에서 PMF와 CDF 시각화\n",
    "def plot_binomial_distribution(x, n=10, p=0.5):\n",
    "    # 이항분포의 x 범위 설정\n",
    "    x_values = np.arange(0, n + 1)\n",
    "    \n",
    "    # PMF(확률질량함수)와 CDF(누적분포함수) 계산\n",
    "    pmf_values = binom.pmf(x_values, n, p)\n",
    "    cdf_values = binom.cdf(x_values, n, p)\n",
    "    \n",
    "    # 선택된 x에서의 PMF와 CDF 값 계산\n",
    "    pmf_at_x = binom.pmf(x, n, p)\n",
    "    cdf_at_x = binom.cdf(x, n, p)\n",
    "    \n",
    "    plt.figure(figsize=(10, 6))\n",
    "\n",
    "    # PMF 시각화\n",
    "    plt.subplot(2, 1, 1)\n",
    "    plt.stem(x_values, pmf_values, label=f'f({x})={pmf_at_x:.4f}', basefmt=\" \", use_line_collection=True)\n",
    "    plt.axvline(x=x, color='red', linestyle='--', label=f'X={x}')\n",
    "\n",
    "    plt.title(f'Binomial Distribution (n={n}, p={p}) at X = {x}')\n",
    "    plt.xlabel('X')\n",
    "    plt.ylabel('PMF (f(x))')\n",
    "    plt.legend(loc='upper right')\n",
    "    plt.grid(True)\n",
    "\n",
    "    # CDF 시각화 (계단형 함수로 오른쪽 불연속성 명확하게 표시)\n",
    "    plt.subplot(2, 1, 2)\n",
    "    plt.step(x_values, cdf_values, label=\"CDF\", where=\"post\", color='green')  # 계단형 함수로 CDF 표시 (오른쪽 불연속성)\n",
    "\n",
    "    # 각 x 값에서의 불연속성 표현: 닫힌 점과 열린 점\n",
    "    plt.plot(x_values, cdf_values, 'bo')  # 닫힌 점\n",
    "    plt.plot(x_values[:-1] + 1, cdf_values[:-1], 'wo', markeredgecolor='blue')  # 열린 점\n",
    "\n",
    "    plt.axvline(x=x, color='red', linestyle='--', label=f'F({x})={cdf_at_x:.4f}') \n",
    "    \n",
    "    plt.xlabel('X')\n",
    "    plt.ylabel('CDF (F(x))')\n",
    "    plt.legend(loc='lower right')\n",
    "    plt.grid(True)\n",
    "\n",
    "    # 선택된 X 값에서 PMF와 CDF 값 표시\n",
    "    plt.suptitle(f\"At X = {x}, PMF = f({x}) = {pmf_at_x:.4f}, CDF = F({x}) = {cdf_at_x:.4f}\", fontsize=14)\n",
    "    plt.tight_layout()\n",
    "    plt.show()\n",
    "\n",
    "# 트랙바와 입력 위젯 정의\n",
    "x_slider = widgets.IntSlider(value=5, min=0, max=10, step=1, description='X:', continuous_update=False)\n",
    "n_slider = widgets.IntSlider(value=10, min=1, max=100, step=1, description='n:', continuous_update=False)\n",
    "p_slider = widgets.FloatSlider(value=0.5, min=0.01, max=1.0, step=0.01, description='p:', continuous_update=False)\n",
    "\n",
    "# 인터랙티브 위젯\n",
    "widgets.interact(plot_binomial_distribution, x=x_slider, n=n_slider, p=p_slider)\n",
    "\n"
   ]
  },
  {
   "cell_type": "code",
   "execution_count": 46,
   "metadata": {},
   "outputs": [
    {
     "data": {
      "application/vnd.jupyter.widget-view+json": {
       "model_id": "806c3496a61b4112b19cbff857bd2ad2",
       "version_major": 2,
       "version_minor": 0
      },
      "text/plain": [
       "interactive(children=(IntSlider(value=15, continuous_update=False, description='X:', max=30), IntSlider(value=…"
      ]
     },
     "metadata": {},
     "output_type": "display_data"
    },
    {
     "data": {
      "text/plain": [
       "<function __main__.plot_binomial_distribution_at_x(x, n=30, p=0.5)>"
      ]
     },
     "execution_count": 46,
     "metadata": {},
     "output_type": "execute_result"
    }
   ],
   "source": [
    "import numpy as np\n",
    "import matplotlib.pyplot as plt\n",
    "from scipy.stats import binom\n",
    "import ipywidgets as widgets\n",
    "\n",
    "n_graph = 30\n",
    "\n",
    "# 함수 정의: 선택한 x 값에서 PMF와 CDF 시각화 및 각 구간에서 수직 스텝 크기(ΔF(x))를 빨간색으로 표시\n",
    "def plot_binomial_distribution_at_x(x, n=30, p=0.5):\n",
    "\n",
    "    n_graph = n\n",
    "\n",
    "    # 이항분포의 x 범위 설정\n",
    "    x_values = np.arange(0, n + 1)\n",
    "    \n",
    "    # PMF(확률질량함수)와 CDF(누적분포함수) 계산\n",
    "    pmf_values = binom.pmf(x_values, n, p)\n",
    "    cdf_values = binom.cdf(x_values, n, p)\n",
    "    \n",
    "    # 선택된 x에서의 PMF와 CDF 값 계산\n",
    "    pmf_at_x = binom.pmf(x, n, p)\n",
    "    cdf_at_x = binom.cdf(x, n, p)\n",
    "    step_size = binom.cdf(x, n, p) - binom.cdf(x-1, n, p)\n",
    "    \n",
    "    plt.figure(figsize=(10, 6))\n",
    "\n",
    "    # PMF 시각화\n",
    "    plt.subplot(2, 1, 1)\n",
    "    plt.stem(x_values, pmf_values, label=\"PMF\", basefmt=\" \", use_line_collection=True)\n",
    "    plt.axvline(x=x, color='red', linestyle='--', label=f'X={x}')\n",
    "    plt.axvline(x=x, color='none', label=f'PMF({x})={pmf_at_x:.4f}')  # PMF 값을 따로 표시\n",
    "\n",
    "    plt.title(f'Binomial Distribution (n={n}, p={p}) at X = {x}')\n",
    "    plt.xlabel('X')\n",
    "    plt.ylabel('PMF (f(x))')\n",
    "    plt.legend(loc='upper right')\n",
    "    plt.grid(True)\n",
    "\n",
    "    # CDF 시각화 (수직 스텝을 빨간색으로 표시)\n",
    "    plt.subplot(2, 1, 2)\n",
    "    plt.step(x_values, cdf_values, label=\"CDF\", where=\"post\", color='green')  # 계단형 함수로 CDF 표시 (오른쪽 불연속성)\n",
    "    \n",
    "    # 각 x 값에서의 불연속성 표현: 닫힌 점과 열린 점\n",
    "    #plt.plot(x_values, cdf_values, 'bo')  # 닫힌 점\n",
    "    #plt.plot(x_values[:-1] + 1, cdf_values[:-1], 'wo', markeredgecolor='blue')  # 열린 점\n",
    "\n",
    "    # 각 구간에서 수직 부분을 빨간색으로 표시\n",
    "    for i in range(len(x_values) - 1):\n",
    "        step_size = binom.cdf(x, n, p) - binom.cdf(x-1, n, p)  # ΔF(x)는 PMF와 동일\n",
    "        # 수직 부분 빨간색으로 표시\n",
    "        plt.vlines(x_values[i+1], cdf_values[i], cdf_values[i+1], colors='red', label=f'ΔF(x)={step_size:.4f}' if i == 0 else \"\")\n",
    "\n",
    "\n",
    "    #plt.axvline(x=x, color='none', label=f'ΔF(x)={pmf_at_x:.4f}')  # CDF 값을 따로 표시\n",
    "    plt.axvline(x=x, color='red', linestyle='--', label=f'X={x}')\n",
    "    plt.axvline(x=x, color='none', label=f'CDF({x})={cdf_at_x:.4f}')  # CDF 값을 따로 표시\n",
    "    \n",
    "    plt.xlabel('X')\n",
    "    plt.ylabel('CDF (F(x))')\n",
    "    plt.legend(loc='lower right')\n",
    "    plt.grid(True)\n",
    "\n",
    "    # 선택된 X 값에서 PMF와 CDF 값 표시\n",
    "    plt.suptitle(f\"At X = {x}, PMF = f({x}) = {pmf_at_x:.4f}, CDF = F({x}) = {cdf_at_x:.4f}\", fontsize=14)\n",
    "    plt.tight_layout()\n",
    "    plt.show()\n",
    "\n",
    "# 트랙바와 입력 위젯 정의\n",
    "x_slider = widgets.IntSlider(value=n_graph/2, min=0, max=n_graph, step=1, description='X:', continuous_update=False)\n",
    "n_slider = widgets.IntSlider(value=30, min=1, max=100, step=1, description='n:', continuous_update=False)\n",
    "p_slider = widgets.FloatSlider(value=0.5, min=0.01, max=1.0, step=0.01, description='p:', continuous_update=False)\n",
    "\n",
    "# 인터랙티브 위젯\n",
    "widgets.interact(plot_binomial_distribution_at_x, x=x_slider, n=n_slider, p=p_slider)\n",
    "\n"
   ]
  },
  {
   "cell_type": "code",
   "execution_count": null,
   "metadata": {},
   "outputs": [],
   "source": []
  }
 ],
 "metadata": {
  "kernelspec": {
   "display_name": "Python 3",
   "language": "python",
   "name": "python3"
  },
  "language_info": {
   "codemirror_mode": {
    "name": "ipython",
    "version": 3
   },
   "file_extension": ".py",
   "mimetype": "text/x-python",
   "name": "python",
   "nbconvert_exporter": "python",
   "pygments_lexer": "ipython3",
   "version": "3.12.4"
  }
 },
 "nbformat": 4,
 "nbformat_minor": 2
}
