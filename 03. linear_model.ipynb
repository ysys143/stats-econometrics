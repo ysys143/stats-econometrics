{
 "cells": [
  {
   "cell_type": "markdown",
   "metadata": {},
   "source": [
    "I. 선형회귀모형(Linear Regression Model)\n",
    "\n",
    "1 계량 분석(Quantitative Analysis)이란?\n",
    "\n",
    "1.1 이론이 설명하는 변수들 간의 관계를 자료를 바탕으로 통계적으로 추정하고 검정하며 예측하는 학문. 이는 경제학뿐 아니라 사회학, 마케팅, 심리학 등 여러 분야에서 적용될 수 있다.\n",
    "\n",
    "- 수학적 모형: 이론적 관계를 수학적으로 표현하여 변수 간의 관계를 설명\n",
    "\n",
    "$\\quad C=f(Y), f'>0, f''<0$\n",
    "\n",
    "- 통계모형 : 자료를 분석할 때 변수들 간의 관계를 확정적인 것이 아닌 통계적 관계로 볼 필요가 있다. 이 때, 오차항($\\epsilon$)이라는 확률 변수가 포함되어 측정되지 않거나 설명되지 않은 요인을 반영한다.\n",
    "\n",
    "$C=f(Y)+\\epsilon$\n",
    "\n",
    "- 계량모형 : 자료를 바탕으로 변수들의 관계를 정량적으로 추정하기 위해 구체적인 함수 형태. 오차항의 분포에 대한 일련의 가정을 포함한다.\n",
    "\n",
    "$C = \\exp(\\alpha+\\beta Y) \\quad \\Rightarrow \\quad \\ln C = \\alpha + \\beta Y + \\epsilon$ \n",
    "\n",
    "이때 $\\, E(\\epsilon) = ? \\quad V(\\epsilon)=? \\quad...$\n",
    "\n",
    "- 종속변수(dependent variable): $C$, 설명변수 혹은 독립변수 : $Y$, 미지의 모수(unknown parameters): $\\alpha, \\beta$\n",
    "\n",
    "- 자료(data) : 변수들의 관측치\n",
    "\n",
    "통제된 자료(controlled data) vs 통제되지 않은 자료(uncontrolled data)\n",
    "\n",
    "자연과학에서는 주로 통제된 실험으로부터 산출된 자료를 사용한다면, 사회과학에서는 주로 통제되지 않은 실험의 결과 또는 관측적 자료를 사용하게 됨. \n",
    "\n",
    "관측 형태별로 시계열 자료, 횡단면자료, 패널자료로 구분.\n",
    "\n",
    "1.2 실증연구의 절차\n",
    "\n",
    "- 주장하고자 하는 이론의 제시 -> 변수들 간의 수학적 관계로 나타남\n",
    "\n",
    "- 이러한 이론을 바탕으로 계량모형을 제시\n",
    "\n",
    "- 필요한 자료를 습득하고 계량모형을 추정, 즉 모수들의 값을 추정\n",
    "\n",
    "- 추정결과로부터 이론이 제시하는 변수들의 관계에 대한 통계적 검정을 실시($\\beta \\neq 0, \\beta>0, \\beta<1$ 등)\n",
    "\n",
    "- 특히 시계열 모형의 경우 추정결과로부터 예측작업을 수행\n",
    "\n",
    "- 결과를 해석하고 평가\n"
   ]
  },
  {
   "cell_type": "markdown",
   "metadata": {},
   "source": [
    "II. 단순선형회귀모형(Simple Linear Regression Model)과 최소제공추정\n",
    "\n",
    "1. 단순선형회귀모형의 가정\n",
    "\n",
    "2. 강 외생성(Strict Exogeneity) 가정\n",
    "\n",
    "2.1 설명변수 $X$가 확률변수가 아니라는 가정\n",
    "\n",
    "2.2 설명변수 $X$가 확률변수지만 잔차와 독립적이라는 가정\n",
    "\n",
    "3. 강 외생성 하의 단순선형회귀 모형의 가정 I\n",
    "\n",
    "4. 강 외생성 하의 단순선형회귀 모형의 가정 II\n",
    "\n",
    "5. 단순회귀모형에서의 모수의 추정"
   ]
  },
  {
   "cell_type": "markdown",
   "metadata": {},
   "source": [
    "III. 최소제곱추정량의 특성\n",
    "\n",
    "1. 단순선형회귀모형의 가정(i-v)가 충족되는 경우 최소제곱추정량의 성질\n",
    "\n",
    "2. 단순선형회귀모형의 가정(i-v)가 충족되는 경우 최소제곱추정량의 분포\n",
    "\n",
    "3. 오차항의 분산 $\\sigma^2$에 대한 추정"
   ]
  },
  {
   "cell_type": "markdown",
   "metadata": {},
   "source": [
    "IV. 단순회귀모형에서의 추론\n",
    "\n",
    "1. 구간추정량(신뢰구간)의 도출\n",
    "\n",
    "2. 가설검정\n",
    "\n",
    "3. 최소제곱예측"
   ]
  },
  {
   "cell_type": "markdown",
   "metadata": {},
   "source": [
    "V. 단순선형회귀 모형의 기타 이슈들\n",
    "\n",
    "1. 결정계수(coefficient of determination)\n",
    "\n",
    "2. 단위의 변경과 추정결과\n",
    "\n",
    "3. 단순선형회귀 모형의 여러가지 형태"
   ]
  },
  {
   "cell_type": "markdown",
   "metadata": {},
   "source": [
    "VI. 다중회귀모형\n",
    "\n",
    "1. 다중회귀모형에 대한 가정\n",
    "\n",
    "2. 다중회귀모형(설명변수가 두 개인 경우)에 대한 최소제곱추정\n",
    "\n",
    "3. 다중회귀모형(설명변수가 두 개인 경우)에 대한 구간추정 및 가설검정\n",
    "\n",
    "4. 제한최소제곱추정(Restricted LS)\n",
    "\n",
    "5. 모형의 설정(Model Specification)\n",
    "\n",
    "6. 공선성(Colinearity)의 문제\n",
    "\n"
   ]
  }
 ],
 "metadata": {
  "kernelspec": {
   "display_name": "Python 3",
   "language": "python",
   "name": "python3"
  },
  "language_info": {
   "codemirror_mode": {
    "name": "ipython",
    "version": 3
   },
   "file_extension": ".py",
   "mimetype": "text/x-python",
   "name": "python",
   "nbconvert_exporter": "python",
   "pygments_lexer": "ipython3",
   "version": "3.12.4"
  }
 },
 "nbformat": 4,
 "nbformat_minor": 2
}
