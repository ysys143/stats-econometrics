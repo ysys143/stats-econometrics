{
 "cells": [
  {
   "cell_type": "code",
   "execution_count": 14,
   "metadata": {},
   "outputs": [
    {
     "data": {
      "application/vnd.jupyter.widget-view+json": {
       "model_id": "49b77621d8b74c1f89873431944e0012",
       "version_major": 2,
       "version_minor": 0
      },
      "text/plain": [
       "interactive(children=(FloatSlider(value=0.0, continuous_update=False, description='X:', max=4.0, min=-4.0), Fl…"
      ]
     },
     "metadata": {},
     "output_type": "display_data"
    },
    {
     "data": {
      "text/plain": [
       "<function __main__.plot_joint_distribution(x, y)>"
      ]
     },
     "execution_count": 14,
     "metadata": {},
     "output_type": "execute_result"
    }
   ],
   "source": [
    "import numpy as np\n",
    "import matplotlib.pyplot as plt\n",
    "from scipy.stats import norm\n",
    "import ipywidgets as widgets\n",
    "from mpl_toolkits.mplot3d import Axes3D\n",
    "\n",
    "# 함수 정의: 선택한 X와 Y 값에서의 결합확률분포 시각화\n",
    "def plot_joint_distribution(x, y):\n",
    "    # X와 Y에 대한 데이터 생성\n",
    "    x_values = np.linspace(-4, 4, 500)\n",
    "    y_values = np.linspace(-4, 4, 500)\n",
    "    X, Y = np.meshgrid(x_values, y_values)\n",
    "    \n",
    "    # 결합확률분포 계산 (정규분포)\n",
    "    pdf_X = norm.pdf(X)\n",
    "    pdf_Y = norm.pdf(Y)\n",
    "    joint_pdf = pdf_X * pdf_Y  # 독립 가정하에 결합 확률은 곱으로 계산\n",
    "    \n",
    "    fig = plt.figure(figsize=(10, 8))\n",
    "    \n",
    "    # 3D 결합확률분포 시각화\n",
    "    ax = fig.add_subplot(111, projection='3d')\n",
    "    ax.plot_surface(X, Y, joint_pdf, cmap='viridis', edgecolor='none', alpha=0.7)\n",
    "    \n",
    "    # 선택된 X, Y 값에서의 확률밀도 표시\n",
    "    pdf_at_x = norm.pdf(x)\n",
    "    pdf_at_y = norm.pdf(y)\n",
    "    joint_at_xy = pdf_at_x * pdf_at_y\n",
    "    \n",
    "    # X, Y 평면에서 선택한 X, Y 값에 대응하는 포인트 강조\n",
    "    ax.scatter(x, y, joint_at_xy, color='r', s=30, label=f'Joint PDF at (X={x:.2f}, Y={y:.2f}) = {joint_at_xy:.4f}')\n",
    "    \n",
    "    # 그래프 설정\n",
    "    ax.set_title(f'Joint Probability Distribution at X = {x:.2f}, Y = {y:.2f}', fontsize=14)\n",
    "    ax.set_xlabel('X')\n",
    "    ax.set_ylabel('Y')\n",
    "    ax.set_zlabel('Joint PDF')\n",
    "    \n",
    "    plt.legend()\n",
    "    plt.show()\n",
    "\n",
    "# 트랙바 정의: X, Y 값 조절\n",
    "x_slider = widgets.FloatSlider(value=0, min=-4, max=4, step=0.1, description='X:', continuous_update=False)\n",
    "y_slider = widgets.FloatSlider(value=0, min=-4, max=4, step=0.1, description='Y:', continuous_update=False)\n",
    "\n",
    "# 인터랙티브 위젯\n",
    "widgets.interact(plot_joint_distribution, x=x_slider, y=y_slider)\n"
   ]
  },
  {
   "cell_type": "code",
   "execution_count": 11,
   "metadata": {},
   "outputs": [
    {
     "data": {
      "application/vnd.jupyter.widget-view+json": {
       "model_id": "73099c94320942b7aeb87cf80df52ab4",
       "version_major": 2,
       "version_minor": 0
      },
      "text/plain": [
       "interactive(children=(FloatSlider(value=0.0, continuous_update=False, description='X:', max=4.0, min=-4.0), Ou…"
      ]
     },
     "metadata": {},
     "output_type": "display_data"
    },
    {
     "data": {
      "text/plain": [
       "<function __main__.plot_joint_and_marginal_distribution(x)>"
      ]
     },
     "execution_count": 11,
     "metadata": {},
     "output_type": "execute_result"
    }
   ],
   "source": [
    "import numpy as np\n",
    "import matplotlib.pyplot as plt\n",
    "from scipy.stats import norm\n",
    "import ipywidgets as widgets\n",
    "from mpl_toolkits.mplot3d import Axes3D\n",
    "\n",
    "# 함수 정의: X = x에서의 한계확률밀도를 3D 그래프 상에서 시각화\n",
    "def plot_joint_and_marginal_distribution(x):\n",
    "    # X와 Y에 대한 데이터 생성\n",
    "    x_values = np.linspace(-4, 4, 500)\n",
    "    y_values = np.linspace(-4, 4, 500)\n",
    "    X, Y = np.meshgrid(x_values, y_values)\n",
    "    \n",
    "    # 결합확률분포 계산 (정규분포)\n",
    "    pdf_X = norm.pdf(X)\n",
    "    pdf_Y = norm.pdf(Y)\n",
    "    joint_pdf = pdf_X * pdf_Y  # 독립 가정하에 결합 확률은 곱으로 계산\n",
    "\n",
    "    # 선택된 X = x에서 Y에 대한 한계확률밀도 계산\n",
    "    pdf_at_x = norm.pdf(x)\n",
    "    pdf_Y_given_X = norm.pdf(y_values)  # X = x에서 Y의 분포\n",
    "    marginal_pdf = pdf_at_x * pdf_Y_given_X  # 한계확률밀도\n",
    "    \n",
    "    fig = plt.figure(figsize=(12, 8))\n",
    "    \n",
    "    # 3D 결합확률분포 시각화\n",
    "    ax = fig.add_subplot(111, projection='3d')\n",
    "    ax.plot_surface(X, Y, joint_pdf, cmap='viridis', edgecolor='none', alpha=0.7)\n",
    "    \n",
    "    # X = x에서의 단면 (Y에 대한 한계확률밀도 면)\n",
    "    X_plane = np.full_like(y_values, x)  # X = x 평면 생성\n",
    "    ax.plot_surface(X_plane.reshape(-1, 1), y_values.reshape(-1, 1), marginal_pdf.reshape(-1, 1), color='r', alpha=0.6)\n",
    "    \n",
    "    # 접면 시각화 (교차점 강조)\n",
    "    ax.plot([x]*len(y_values), y_values, marginal_pdf, color='r', lw=3, label=f'Intersection at X = {x}')\n",
    "    \n",
    "    # 그래프 설정\n",
    "    ax.set_title(f'Joint Probability Distribution with Intersection at X = {x:.2f}', fontsize=14)\n",
    "    ax.set_xlabel('X')\n",
    "    ax.set_ylabel('Y')\n",
    "    ax.set_zlabel('Joint PDF / Marginal PDF')\n",
    "    \n",
    "    plt.legend()\n",
    "    plt.show()\n",
    "\n",
    "# 트랙바 정의: X 값 조절\n",
    "x_slider = widgets.FloatSlider(value=0, min=-4, max=4, step=0.1, description='X:', continuous_update=False)\n",
    "\n",
    "# 인터랙티브 위젯\n",
    "widgets.interact(plot_joint_and_marginal_distribution, x=x_slider)\n"
   ]
  },
  {
   "cell_type": "code",
   "execution_count": 13,
   "metadata": {},
   "outputs": [
    {
     "data": {
      "application/vnd.jupyter.widget-view+json": {
       "model_id": "b69aff7b467b43ca879af77d01fca31e",
       "version_major": 2,
       "version_minor": 0
      },
      "text/plain": [
       "interactive(children=(FloatSlider(value=0.0, continuous_update=False, description='X:', max=4.0, min=-4.0), Ou…"
      ]
     },
     "metadata": {},
     "output_type": "display_data"
    },
    {
     "data": {
      "text/plain": [
       "<function __main__.plot_joint_and_marginal_distribution(x)>"
      ]
     },
     "execution_count": 13,
     "metadata": {},
     "output_type": "execute_result"
    }
   ],
   "source": [
    "import numpy as np\n",
    "import matplotlib.pyplot as plt\n",
    "from scipy.stats import norm\n",
    "import ipywidgets as widgets\n",
    "from mpl_toolkits.mplot3d import Axes3D\n",
    "\n",
    "# 함수 정의: X = x에서의 한계확률밀도를 3D 그래프 상에서 시각화\n",
    "def plot_joint_and_marginal_distribution(x):\n",
    "    # X와 Y에 대한 데이터 생성\n",
    "    x_values = np.linspace(-4, 4, 500)\n",
    "    y_values = np.linspace(-4, 4, 500)\n",
    "    X, Y = np.meshgrid(x_values, y_values)\n",
    "    \n",
    "    # 결합확률분포 계산 (정규분포)\n",
    "    pdf_X = norm.pdf(X)\n",
    "    pdf_Y = norm.pdf(Y)\n",
    "    joint_pdf = pdf_X * pdf_Y  # 독립 가정하에 결합 확률은 곱으로 계산\n",
    "\n",
    "    # 선택된 X = x에서 Y에 대한 한계확률밀도 계산\n",
    "    pdf_at_x = norm.pdf(x)\n",
    "    pdf_Y_given_X = norm.pdf(y_values)  # X = x에서 Y의 분포\n",
    "    marginal_pdf = pdf_at_x * pdf_Y_given_X  # 한계확률밀도\n",
    "    \n",
    "    fig = plt.figure(figsize=(12, 8))\n",
    "    \n",
    "    # 3D 결합확률분포 시각화\n",
    "    ax = fig.add_subplot(111, projection='3d')\n",
    "    ax.plot_surface(X, Y, joint_pdf, cmap='viridis', edgecolor='none', alpha=0.7)\n",
    "    \n",
    "    # X = x에서의 단면 (Y에 대한 한계확률밀도 면) - 곡면 아래의 영역을 면으로 시각화\n",
    "    X_plane = np.full_like(y_values, x)  # X = x 평면 생성\n",
    "    ax.plot_surface(X_plane.reshape(-1, 1), y_values.reshape(-1, 1), marginal_pdf.reshape(-1, 1), color='r', alpha=0.6)\n",
    "    \n",
    "    # X = x 선까지 내려오는 면을 시각화\n",
    "    for i in range(len(y_values)):\n",
    "        ax.plot([x, x], [y_values[i], y_values[i]], [0, marginal_pdf[i]], color='r', alpha=0.3)\n",
    "\n",
    "    # 그래프 설정\n",
    "    ax.set_title(f'Joint Probability Distribution with Marginal Surface at X = {x:.2f}', fontsize=14)\n",
    "    ax.set_xlabel('X')\n",
    "    ax.set_ylabel('Y')\n",
    "    ax.set_zlabel('Joint PDF / Marginal PDF')\n",
    "    \n",
    "    plt.show()\n",
    "\n",
    "# 트랙바 정의: X 값 조절\n",
    "x_slider = widgets.FloatSlider(value=0, min=-4, max=4, step=0.1, description='X:', continuous_update=False)\n",
    "\n",
    "# 인터랙티브 위젯\n",
    "widgets.interact(plot_joint_and_marginal_distribution, x=x_slider)\n"
   ]
  }
 ],
 "metadata": {
  "kernelspec": {
   "display_name": "Python 3",
   "language": "python",
   "name": "python3"
  },
  "language_info": {
   "codemirror_mode": {
    "name": "ipython",
    "version": 3
   },
   "file_extension": ".py",
   "mimetype": "text/x-python",
   "name": "python",
   "nbconvert_exporter": "python",
   "pygments_lexer": "ipython3",
   "version": "3.12.4"
  }
 },
 "nbformat": 4,
 "nbformat_minor": 2
}
